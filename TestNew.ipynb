{
 "cells": [
  {
   "cell_type": "code",
   "execution_count": 107,
   "metadata": {},
   "outputs": [],
   "source": [
    "import pickle as cPickle\n",
    "#import gzip\n",
    "import numpy as np\n",
    "import matplotlib.pyplot as pl\n",
    "%matplotlib inline\n",
    "import cv2"
   ]
  },
  {
   "cell_type": "code",
   "execution_count": null,
   "metadata": {},
   "outputs": [],
   "source": [
    "import time\n",
    "from IPython.display import clear_output\n",
    "dirPath = os.path.join(\"ASL\",\"signs\")\n",
    "# нужно только для работы в jupyter\n",
    "\n",
    "for i in range(0,100):\n",
    "    # читаем букву\n",
    "    sign = input().upper()\n",
    "    print(sign)\n",
    "   \n",
    "    # Путь до каталога\n",
    "    signPath = os.path.join(dirPath, sign)    \n",
    "    if not os.path.exists(signPath):\n",
    "        os.makedirs(signPath)\n",
    "    \n",
    "    # Читаем изображение\n",
    "    cap = cv2.VideoCapture(0)\n",
    "    time.sleep(2)\n",
    "    for i in range(0,10):\n",
    "         # читаем время\n",
    "        currentTime = datetime.datetime.now()\n",
    "        strTime = currentTime.strftime(\"%d.%m.%Y-%H:%M:%S\")\n",
    "        retr = cap.grab()\n",
    "        ret, frame = cap.retrieve(retr)\n",
    "        gray = cv2.cvtColor(frame, cv2.COLOR_BGR2GRAY)\n",
    "        cv2.imwrite(os.path.join(signPath, '%s.jpg' %strTime), gray)\n",
    "        imshow(gray)\n",
    "        show()\n",
    "        clear_output(wait=True)\n",
    "        time.sleep(0.5)\n",
    "    cap.release()\n",
    "    # Display the frame until new frame is available\n",
    "    clear_output(wait=True)    \n",
    "    if sign == 'quit':\n",
    "        break"
   ]
  },
  {
   "cell_type": "code",
   "execution_count": 44,
   "metadata": {},
   "outputs": [],
   "source": [
    "dirPath = os.path.join(\"ASL\",\"signs\")    \n",
    "import os\n",
    "signs = ''\n",
    "trainingX = []\n",
    "trainingY = []\n",
    "training = []\n",
    "width = 100\n",
    "height = 100\n",
    "for fl in os.listdir(dirPath):\n",
    "    fname = os.path.join(dirPath,fl)\n",
    "    base=os.path.basename(fname)\n",
    "    symbol = os.path.splitext(base)[0]  \n",
    "    im = cv2.imread(fname,0)\n",
    "    ret,im = cv2.threshold(im,127,1,cv2.THRESH_BINARY_INV)\n",
    "    im = cv2.resize(im,(width,height))\n",
    "    imgB = np.asarray(im).reshape(-1)\n",
    "    trainingX.append(imgB)\n",
    "    trainingY.append(symbol)\n",
    "    signs += symbol\n",
    "    pass\n",
    "signs = sorted(signs)\n",
    "# signs.index('z')\n",
    "# print(width,height)\n",
    "training.append(trainingX)\n",
    "training.append(trainingY)\n",
    "# print(training[0][1])\n",
    "\n",
    "# for el in training[0][0]:\n",
    "#      print (el)\n",
    "# len(training[0][0])\n",
    "# len(im)"
   ]
  },
  {
   "cell_type": "code",
   "execution_count": 31,
   "metadata": {},
   "outputs": [],
   "source": [
    "def vectorized_result(j,size):\n",
    "    e = np.zeros((26, size))\n",
    "#     print('j:',j)\n",
    "#     print('size',size)\n",
    "    cnt=0\n",
    "    for i in j:\n",
    "        idx = signs.index(i)\n",
    "        e[idx][cnt] = 1.0\n",
    "        cnt+=1\n",
    "    return e"
   ]
  },
  {
   "cell_type": "code",
   "execution_count": 86,
   "metadata": {},
   "outputs": [],
   "source": [
    "# Xdisplay = np.reshape(training[0][0],(width,height))\n",
    "# y = vectorized_result(training[1][0:3],3)\n",
    "# # pl.imshow(Xdisplay,cmap='Greys')\n",
    "# X = np.float32(training[0][0:3])"
   ]
  },
  {
   "cell_type": "code",
   "execution_count": 91,
   "metadata": {},
   "outputs": [],
   "source": [
    "class Neural_Network(object):\n",
    "    def __init__(self,width,height):        \n",
    "        self.inputLayerSize = width*height\n",
    "        self.outputLayerSize = 26\n",
    "        self.hiddenLayerSize = 30\n",
    "        self.W1 = np.random.randn(self.inputLayerSize,self.hiddenLayerSize)\n",
    "        self.W2 = np.random.randn(self.hiddenLayerSize,self.outputLayerSize)\n",
    "        \n",
    "    def forward(self, X):\n",
    "        self.z2 = np.dot(X, self.W1)\n",
    "        self.a2 = self.sigmoid(self.z2)\n",
    "        self.z3 = np.dot(self.a2, self.W2)\n",
    "        yHat = self.sigmoid(self.z3) \n",
    "        return yHat\n",
    "        \n",
    "    def sigmoid(self, z):\n",
    "        return 1/(1+np.exp(-z))\n",
    "    \n",
    "    def sigmoidPrime(self,z):\n",
    "        return np.exp(-z)/((1+np.exp(-z))**2)\n",
    "    \n",
    "    def costFunction(self, X, y):\n",
    "        self.yHat = self.forward(X)\n",
    "        J = 0.5*sum((y-self.yHat)**2)\n",
    "        return J\n",
    "        \n",
    "    def costFunctionPrime(self, X, y):\n",
    "        self.yHat = self.forward(X)\n",
    "        delta3 = np.multiply(-(y-self.yHat), self.sigmoidPrime(self.z3))\n",
    "        dJdW2 = np.dot(self.a2.T, delta3)\n",
    "        delta2 = np.float32(np.dot(delta3, self.W2.T)*self.sigmoidPrime(self.z2))\n",
    "        dJdW1 = np.dot(X.T, delta2)\n",
    "        return dJdW1, dJdW2\n",
    "    \n",
    "    def getParams(self):\n",
    "        params = np.concatenate((self.W1.ravel(), self.W2.ravel()))\n",
    "        return params\n",
    "    \n",
    "    def setParams(self, params):\n",
    "        W1_start = 0\n",
    "        W1_end = self.hiddenLayerSize * self.inputLayerSize\n",
    "        self.W1 = np.reshape(params[W1_start:W1_end], (self.inputLayerSize , self.hiddenLayerSize))\n",
    "        W2_end = W1_end + self.hiddenLayerSize*self.outputLayerSize\n",
    "        self.W2 = np.reshape(params[W1_end:W2_end], (self.hiddenLayerSize, self.outputLayerSize))\n",
    "        \n",
    "    def computeGradients(self, X, y):\n",
    "        dJdW1, dJdW2 = self.costFunctionPrime(X, y)\n",
    "        return np.concatenate((dJdW1.ravel(), dJdW2.ravel()))"
   ]
  },
  {
   "cell_type": "code",
   "execution_count": 93,
   "metadata": {},
   "outputs": [],
   "source": [
    "NN = Neural_Network(width,height)"
   ]
  },
  {
   "cell_type": "code",
   "execution_count": 95,
   "metadata": {},
   "outputs": [
    {
     "name": "stdout",
     "output_type": "stream",
     "text": [
      "9.770751540915619\n"
     ]
    }
   ],
   "source": [
    "X = np.float32(training[0][0])\n",
    "y = vectorized_result(training[1][0],2)\n",
    "yHat = NN.forward(X)\n",
    "cost = NN.costFunction(X,y.T)\n",
    "print(cost)"
   ]
  },
  {
   "cell_type": "code",
   "execution_count": 99,
   "metadata": {},
   "outputs": [],
   "source": [
    "costarr=[]\n",
    "for i in range(0,500):\n",
    "    for j in range(0,len(training[0]),2):\n",
    "#     for j in range(0,10,2): # len(training[0]),2):\n",
    "#         print(j)\n",
    "        y = vectorized_result(training[1][j:j+2],2)\n",
    "#         print('y',y.shape)\n",
    "        X = np.float32(training[0][j:j+2])\n",
    "#         X = X.reshape(X.shape[0],1)\n",
    "#         print('X',X.shape)\n",
    "        cost = NN.costFunction(X,y.T)\n",
    "        costarr.append(cost)\n",
    "        dJdW1, dJdW2 = NN.costFunctionPrime(X,y.T)\n",
    "        scalar = 0.7\n",
    "        NN.W1 = NN.W1 - scalar*dJdW1\n",
    "        NN.W2 = NN.W2 - scalar*dJdW2\n",
    "# print(costarr)"
   ]
  },
  {
   "cell_type": "code",
   "execution_count": 100,
   "metadata": {},
   "outputs": [
    {
     "data": {
      "text/plain": [
       "Text(0,0.5,'Cost')"
      ]
     },
     "execution_count": 100,
     "metadata": {},
     "output_type": "execute_result"
    },
    {
     "data": {
      "image/png": "[encoded data removed]",
      "text/plain": [
       "<Figure size 432x288 with 1 Axes>"
      ]
     },
     "metadata": {},
     "output_type": "display_data"
    }
   ],
   "source": [
    "plot(costarr)\n",
    "grid(1)\n",
    "xlabel('Iterations')\n",
    "ylabel('Cost')\n",
    "# print (costarr)"
   ]
  },
  {
   "cell_type": "code",
   "execution_count": 128,
   "metadata": {},
   "outputs": [
    {
     "name": "stdout",
     "output_type": "stream",
     "text": [
      "[[0.   0.   0.   0.   0.01 0.   0.   0.   0.   0.   0.   0.   0.   0.\n",
      "  0.01 0.01 0.98 0.   0.   0.   0.01 0.01 0.01 0.   0.   0.  ]\n",
      " [0.04 0.   0.   0.   0.   0.   0.   0.02 0.   0.   0.   0.   0.01 0.92\n",
      "  0.01 0.   0.   0.   0.01 0.   0.   0.02 0.04 0.   0.   0.  ]\n",
      " [0.94 0.   0.   0.01 0.   0.01 0.05 0.   0.   0.   0.   0.   0.   0.04\n",
      "  0.   0.01 0.   0.01 0.   0.   0.   0.01 0.   0.01 0.   0.  ]\n",
      " [0.   0.   0.   0.   0.01 0.   0.   0.   0.   0.   0.   0.   0.   0.\n",
      "  0.97 0.02 0.   0.   0.   0.01 0.   0.   0.01 0.   0.   0.  ]\n",
      " [0.   0.   0.   0.   0.   0.   0.   0.   0.   0.01 0.01 0.   0.   0.\n",
      "  0.   0.   0.   0.   0.   0.02 0.95 0.   0.   0.   0.   0.  ]\n",
      " [0.01 0.   0.   0.   0.01 0.01 0.   0.   0.   0.   0.   0.   0.   0.\n",
      "  0.   0.   0.   0.   0.   0.01 0.02 0.   0.   0.01 0.01 0.98]\n",
      " [0.01 0.   0.   0.   0.   0.   0.   0.   0.01 0.   0.   0.   0.   0.\n",
      "  0.02 0.97 0.01 0.   0.   0.   0.   0.01 0.   0.   0.   0.  ]\n",
      " [0.   0.   0.   0.   0.   0.   0.03 0.02 0.   0.   0.   0.   0.   0.\n",
      "  0.   0.   0.   0.97 0.01 0.   0.01 0.   0.   0.   0.   0.  ]\n",
      " [0.   0.   0.   0.   0.01 0.   0.01 0.   0.   0.   0.   0.   0.   0.\n",
      "  0.   0.   0.   0.02 0.02 0.   0.   0.   0.   0.   0.   0.  ]\n",
      " [0.04 0.01 0.   0.   0.   0.   0.94 0.   0.   0.01 0.   0.01 0.   0.\n",
      "  0.   0.   0.   0.01 0.01 0.   0.01 0.   0.   0.   0.   0.  ]]\n",
      "res [16, 13, 0, 14, 20, 25, 15, 17, 17, 6]\n",
      "['q', 'n', 'a', 'o', 'u', 'z', 'p', 'r', 'r', 'g']\n",
      "yarr ['q', 'n', 'a', 'o', 'u', 'z', 'p', 'r', 'f', 'g']\n"
     ]
    },
    {
     "data": {
      "text/plain": [
       "0"
      ]
     },
     "execution_count": 128,
     "metadata": {},
     "output_type": "execute_result"
    }
   ],
   "source": [
    "X = np.float32(training[0][0:10])\n",
    "result=NN.forward(X)\n",
    "result=np.around(result, decimals = 2)\n",
    "print(result)\n",
    "yarr=training[1][0:10]\n",
    "res=[np.argmax(i) for i in  result]\n",
    "print(\"res\",res)\n",
    "print([signs[sign] for sign in res])\n",
    "print('yarr',yarr)\n",
    "sum(int(x == y) for (x, y) in list(zip(res,yarr)))"
   ]
  },
  {
   "cell_type": "code",
   "execution_count": 139,
   "metadata": {},
   "outputs": [
    {
     "name": "stdout",
     "output_type": "stream",
     "text": [
      "Предсказываемый символ n\n"
     ]
    },
    {
     "data": {
      "image/png": "[encoded data removed]",
      "text/plain": [
       "<Figure size 432x288 with 1 Axes>"
      ]
     },
     "metadata": {},
     "output_type": "display_data"
    },
    {
     "name": "stdout",
     "output_type": "stream",
     "text": [
      "Предсказываемый символ a\n"
     ]
    },
    {
     "data": {
      "image/png": "[encoded data removed]",
      "text/plain": [
       "<Figure size 432x288 with 1 Axes>"
      ]
     },
     "metadata": {},
     "output_type": "display_data"
    },
    {
     "name": "stdout",
     "output_type": "stream",
     "text": [
      "Предсказываемый символ o\n"
     ]
    },
    {
     "data": {
      "image/png": "[encoded data removed]",
      "text/plain": [
       "<Figure size 432x288 with 1 Axes>"
      ]
     },
     "metadata": {},
     "output_type": "display_data"
    },
    {
     "name": "stdout",
     "output_type": "stream",
     "text": [
      "Предсказываемый символ u\n"
     ]
    },
    {
     "data": {
      "image/png": "[encoded data removed]",
      "text/plain": [
       "<Figure size 432x288 with 1 Axes>"
      ]
     },
     "metadata": {},
     "output_type": "display_data"
    },
    {
     "name": "stdout",
     "output_type": "stream",
     "text": [
      "Предсказываемый символ z\n"
     ]
    },
    {
     "data": {
      "image/png": "[encoded data removed]",
      "text/plain": [
       "<Figure size 432x288 with 1 Axes>"
      ]
     },
     "metadata": {},
     "output_type": "display_data"
    }
   ],
   "source": [
    "for i in range(1,6):\n",
    "    X = np.float32(training[0][i])\n",
    "    Xdisplay = np.reshape(training[0][i],(width,height))\n",
    "    show()\n",
    "    pl.imshow(Xdisplay) #,cmap='Greys')\n",
    "    pl.title(\"Фактический символ %s\" %training[1][i])\n",
    "    result=NN.forward(X)\n",
    "    result=np.around(result, decimals = 2)\n",
    "    res = np.argmax(result)\n",
    "    print(\"Предсказываемый символ\", signs[res])"
   ]
  },
  {
   "cell_type": "code",
   "execution_count": 102,
   "metadata": {},
   "outputs": [],
   "source": [
    "%matplotlib inline\n",
    "import cv2\n",
    "from IPython.display import clear_output"
   ]
  },
  {
   "cell_type": "code",
   "execution_count": 143,
   "metadata": {},
   "outputs": [
    {
     "name": "stdout",
     "output_type": "stream",
     "text": [
      "Released Video Resource\n"
     ]
    }
   ],
   "source": [
    "try:\n",
    "#     cap = cv2.VideoCapture(0)\n",
    "    cap = cv2.VideoCapture(0)\n",
    "    while(1):\n",
    "        # Capture frame-by-frame\n",
    "        ret, frame = cap.read()\n",
    "        frame = cv2.resize(frame,(width,height))\n",
    "        hsv = cv2.cvtColor(frame, cv2.COLOR_BGR2HSV)\n",
    "        lower = np.array([-10,13,15])\n",
    "        upper = np.array([15,255,255])\n",
    "        mask = cv2.inRange(hsv, lower, upper)\n",
    "        res = cv2.bitwise_and(frame,frame, mask= mask)\n",
    "        \n",
    "        X = np.asarray(mask).reshape(-1)\n",
    "        result=NN.forward(X)\n",
    "        result=np.around(result, decimals = 2)\n",
    "        res = np.argmax(result)\n",
    "        \n",
    "        pl.imshow(mask) #,cmap='Greys')\n",
    "        pl.title(\"Предсказываемый символ %s\" %signs[res])\n",
    "        show()\n",
    "        # Display the frame until new frame is available\n",
    "        clear_output(wait=True)\n",
    "except KeyboardInterrupt:\n",
    "    # Release the Video Device\n",
    "    cap.release()\n",
    "    # Message to be displayed after releasing the device\n",
    "    print(\"Released Video Resource\")"
   ]
  }
 ],
 "metadata": {
  "kernelspec": {
   "display_name": "Python 3",
   "language": "python",
   "name": "python3"
  },
  "language_info": {
   "codemirror_mode": {
    "name": "ipython",
    "version": 3
   },
   "file_extension": ".py",
   "mimetype": "text/x-python",
   "name": "python",
   "nbconvert_exporter": "python",
   "pygments_lexer": "ipython3",
   "version": "3.6.3"
  }
 },
 "nbformat": 4,
 "nbformat_minor": 2
}
